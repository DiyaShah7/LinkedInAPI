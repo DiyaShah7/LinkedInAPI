{
 "cells": [
  {
   "cell_type": "code",
   "execution_count": 8,
   "metadata": {},
   "outputs": [
    {
     "name": "stdout",
     "output_type": "stream",
     "text": [
      "Requirement already satisfied: selenium in c:\\users\\diyas\\miniconda3\\envs\\pyenv\\lib\\site-packages (3.141.0)\n",
      "Requirement already satisfied: urllib3 in c:\\users\\diyas\\miniconda3\\envs\\pyenv\\lib\\site-packages (from selenium) (1.26.16)\n",
      "Requirement already satisfied: beautifulsoup4 in c:\\users\\diyas\\miniconda3\\envs\\pyenv\\lib\\site-packages (4.12.2)\n",
      "Requirement already satisfied: soupsieve>1.2 in c:\\users\\diyas\\miniconda3\\envs\\pyenv\\lib\\site-packages (from beautifulsoup4) (2.5)\n"
     ]
    }
   ],
   "source": [
    "%pip install selenium\n",
    "%pip install beautifulsoup4"
   ]
  },
  {
   "cell_type": "code",
   "execution_count": 23,
   "metadata": {},
   "outputs": [],
   "source": [
    "from selenium import webdriver\n",
    "import csv\n",
    "import time\n",
    "from selenium import webdriver\n",
    "from selenium.webdriver.common.keys import Keys\n",
    "from selenium.webdriver.common.by import By\n",
    "from selenium.webdriver.support.ui import WebDriverWait\n",
    "from selenium.webdriver.support import expected_conditions as EC\n",
    "from selenium import webdriver\n",
    "from bs4 import BeautifulSoup as bs\n",
    "import re as re\n",
    "import time\n",
    "import pandas as pd\n",
    "\n",
    "# User's first and last name\n",
    "first_name = input(\"Enter the user's first name: \")\n",
    "last_name = input(\"Enter the user's last name: \")\n",
    "search_query = first_name+' '+last_name\n",
    "# Initialize the WebDrive\n",
    "driver_path = 'chromedriver-win64/chromedriver.exe'\n",
    "username = input(\"Enter the username: \")\n",
    "password = input(\"Enter the password: \")\n",
    "\n",
    "# Set up the Chrome web driver\n",
    "driver = webdriver.Chrome(driver_path)\n",
    "\n",
    "# Navigate to the LinkedIn login page\n",
    "driver.get('https://www.linkedin.com/login')\n",
    "\n",
    "# Wait for the page to load\n",
    "time.sleep(2)\n",
    "\n",
    "# Fill in the login form\n",
    "username = driver.find_element_by_id('username')\n",
    "username.send_keys(username)\n",
    "password = driver.find_element_by_id('password')\n",
    "password.send_keys(password)\n",
    "password.submit()\n",
    "\n",
    "# Wait for the home page to load\n",
    "time.sleep(2)"
   ]
  },
  {
   "cell_type": "code",
   "execution_count": 24,
   "metadata": {},
   "outputs": [],
   "source": [
    "driver.get(f\"https://www.linkedin.com/search/results/people/?keywords={search_query}\")"
   ]
  },
  {
   "cell_type": "code",
   "execution_count": 25,
   "metadata": {},
   "outputs": [],
   "source": [
    "# Extract data from the first 5 search results\n",
    "results = driver.find_element_by_xpath('/html/body/div[4]/div[3]/div[2]/div/div[1]/main/div/div/div[4]/div/ul')"
   ]
  },
  {
   "cell_type": "code",
   "execution_count": 50,
   "metadata": {},
   "outputs": [],
   "source": [
    "profiles = results.find_elements_by_class_name('reusable-search__result-container')"
   ]
  },
  {
   "cell_type": "code",
   "execution_count": 77,
   "metadata": {},
   "outputs": [],
   "source": [
    "prof_url = profiles[0].find_element_by_css_selector('a.app-aware-link').get_attribute('href')"
   ]
  },
  {
   "cell_type": "code",
   "execution_count": 78,
   "metadata": {},
   "outputs": [
    {
     "data": {
      "text/plain": [
       "'https://www.linkedin.com/in/aditi-sharma-372625238?miniProfileUrn=urn%3Ali%3Afs_miniProfile%3AACoAADsuTcYBgmM52YDM49IWHsTatxvdvgTI3tI'"
      ]
     },
     "execution_count": 78,
     "metadata": {},
     "output_type": "execute_result"
    }
   ],
   "source": [
    "prof_url"
   ]
  },
  {
   "cell_type": "code",
   "execution_count": 79,
   "metadata": {},
   "outputs": [],
   "source": [
    "driver.get(prof_url)"
   ]
  }
 ],
 "metadata": {
  "kernelspec": {
   "display_name": "Python 3 (ipykernel)",
   "language": "python",
   "name": "python3"
  },
  "language_info": {
   "codemirror_mode": {
    "name": "ipython",
    "version": 3
   },
   "file_extension": ".py",
   "mimetype": "text/x-python",
   "name": "python",
   "nbconvert_exporter": "python",
   "pygments_lexer": "ipython3",
   "version": "3.11.5"
  }
 },
 "nbformat": 4,
 "nbformat_minor": 2
}
