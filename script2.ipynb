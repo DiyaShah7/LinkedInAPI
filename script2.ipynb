{
 "cells": [
  {
   "cell_type": "code",
   "execution_count": 2,
   "metadata": {},
   "outputs": [
    {
     "name": "stdout",
     "output_type": "stream",
     "text": [
      "Requirement already satisfied: selenium in c:\\users\\diyas\\miniconda3\\envs\\pyenv\\lib\\site-packages (3.141.0)\n",
      "Requirement already satisfied: urllib3 in c:\\users\\diyas\\miniconda3\\envs\\pyenv\\lib\\site-packages (from selenium) (1.26.16)\n",
      "Note: you may need to restart the kernel to use updated packages.\n",
      "Requirement already satisfied: beautifulsoup4 in c:\\users\\diyas\\miniconda3\\envs\\pyenv\\lib\\site-packages (4.12.2)\n",
      "Requirement already satisfied: soupsieve>1.2 in c:\\users\\diyas\\miniconda3\\envs\\pyenv\\lib\\site-packages (from beautifulsoup4) (2.5)\n",
      "Note: you may need to restart the kernel to use updated packages.\n"
     ]
    }
   ],
   "source": [
    "%pip install selenium\n",
    "%pip install beautifulsoup4"
   ]
  },
  {
   "cell_type": "code",
   "execution_count": 4,
   "metadata": {},
   "outputs": [],
   "source": [
    "from selenium import webdriver\n",
    "import csv\n",
    "import time\n",
    "from selenium import webdriver\n",
    "from selenium.webdriver.common.keys import Keys\n",
    "from selenium.webdriver.common.by import By\n",
    "from selenium.webdriver.support.ui import WebDriverWait\n",
    "from selenium.webdriver.support import expected_conditions as EC\n",
    "from selenium import webdriver\n",
    "from bs4 import BeautifulSoup as bs\n",
    "import re as re\n",
    "import time\n",
    "import pandas as pd\n",
    "\n",
    "# User's first and last name\n",
    "first_name = input(\"Enter the user's first name: \")\n",
    "last_name = input(\"Enter the user's last name: \")\n",
    "search_query = first_name+' '+last_name\n",
    "# Initialize the WebDrive\n",
    "driver_path = 'chromedriver-win64/chromedriver.exe'\n",
    "user = input(\"Enter the username: \")\n",
    "passwd = input(\"Enter the password: \")\n",
    "\n",
    "# Set up the Chrome web driver\n",
    "driver = webdriver.Chrome(driver_path)\n",
    "\n",
    "# Navigate to the LinkedIn login page\n",
    "driver.get('https://www.linkedin.com/login')\n",
    "\n",
    "# Wait for the page to load\n",
    "time.sleep(2)\n",
    "\n",
    "# Fill in the login form\n",
    "username = driver.find_element_by_id('username')\n",
    "username.send_keys(user)\n",
    "password = driver.find_element_by_id('password')\n",
    "password.send_keys(passwd)\n",
    "password.submit()\n",
    "\n",
    "# Wait for the home page to load\n",
    "time.sleep(2)"
   ]
  },
  {
   "cell_type": "code",
   "execution_count": 14,
   "metadata": {},
   "outputs": [
    {
     "data": {
      "text/plain": [
       "['https://www.linkedin.com/in/diya-shah-48721626a?miniProfileUrn=urn%3Ali%3Afs_miniProfile%3AACoAAEHiNCcBHSKq1ynvzizYCidNygahYIVSh18',\n",
       " 'https://www.linkedin.com/in/diya-shah-b24832226?miniProfileUrn=urn%3Ali%3Afs_miniProfile%3AACoAADi4RswBTIffEWizgfqmhE3ECYyY_N2e4uQ',\n",
       " 'https://www.linkedin.com/in/diya-shah-bba073214?miniProfileUrn=urn%3Ali%3Afs_miniProfile%3AACoAADYdUf4B8U0rOTV116TaAffX4LS5nC1YXmA',\n",
       " 'https://www.linkedin.com/in/diya-shah?miniProfileUrn=urn%3Ali%3Afs_miniProfile%3AACoAACzPZpUB_OC754FdasuqlVXaUbq9JR1lKjM',\n",
       " 'https://www.linkedin.com/in/diya-shah-977260188?miniProfileUrn=urn%3Ali%3Afs_miniProfile%3AACoAACwtA2sB4pBhTdXI4twso0oeZysomUwOQiQ',\n",
       " 'https://www.linkedin.com/in/diya3333?miniProfileUrn=urn%3Ali%3Afs_miniProfile%3AACoAADcmPWABwbmHNzUYEtRHTA13d9BvDVX1iJc',\n",
       " 'https://www.linkedin.com/in/shah-diya?miniProfileUrn=urn%3Ali%3Afs_miniProfile%3AACoAAEHDGBABqmo8ZVi0Zm2OouA5i2E-1ogPGvA',\n",
       " 'https://www.linkedin.com/in/diya-shah-836375230?miniProfileUrn=urn%3Ali%3Afs_miniProfile%3AACoAADm4AWoBQAUnxVe2JvVe7ewT_sVWP53oTiM',\n",
       " 'https://www.linkedin.com/in/diya-shah-224287218?miniProfileUrn=urn%3Ali%3Afs_miniProfile%3AACoAADbbkHwBSGNTmdILAFCWD14UrDMf_fhsAYQ',\n",
       " 'https://www.linkedin.com/in/diya-shah-7a5a781a8?miniProfileUrn=urn%3Ali%3Afs_miniProfile%3AACoAADCRaW0Bp4WvWAjXiB8eDZxQqCumpzbvG_Q']"
      ]
     },
     "execution_count": 14,
     "metadata": {},
     "output_type": "execute_result"
    }
   ],
   "source": [
    "driver.get(f\"https://www.linkedin.com/search/results/people/?keywords={search_query}\")\n",
    "\n",
    "# Extract data from the first 10 search results\n",
    "\n",
    "profile_urls = []\n",
    "results = driver.find_elements_by_class_name('search-results-container')\n",
    "profiles = results[0].find_elements_by_class_name('reusable-search__result-container')[:10]\n",
    "for profile in profiles:\n",
    "    profile_urls.append(profile.find_element_by_css_selector('a.app-aware-link').get_attribute('href'))\n",
    "profile_urls"
   ]
  },
  {
   "cell_type": "code",
   "execution_count": 15,
   "metadata": {},
   "outputs": [],
   "source": [
    "driver.get(profile_urls[0])"
   ]
  },
  {
   "cell_type": "code",
   "execution_count": null,
   "metadata": {},
   "outputs": [],
   "source": []
  }
 ],
 "metadata": {
  "kernelspec": {
   "display_name": "Python 3 (ipykernel)",
   "language": "python",
   "name": "python3"
  },
  "language_info": {
   "codemirror_mode": {
    "name": "ipython",
    "version": 3
   },
   "file_extension": ".py",
   "mimetype": "text/x-python",
   "name": "python",
   "nbconvert_exporter": "python",
   "pygments_lexer": "ipython3",
   "version": "3.11.5"
  }
 },
 "nbformat": 4,
 "nbformat_minor": 2
}
